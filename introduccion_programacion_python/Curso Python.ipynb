{
 "cells": [
  {
   "cell_type": "markdown",
   "metadata": {},
   "source": [
    "# Variables"
   ]
  },
  {
   "cell_type": "markdown",
   "metadata": {},
   "source": [
    "### Palabras Reservadas\n"
   ]
  },
  {
   "cell_type": "markdown",
   "metadata": {},
   "source": [
    "and, as, assert, break, class, continue, def, del, elif, \n",
    "else, except, finally, for, from, global, if, import, in, is, \n",
    "lambda, nonlocal, not, or, pass, raise, return, \n",
    "try, while, with, yield\n"
   ]
  },
  {
   "cell_type": "markdown",
   "metadata": {},
   "source": [
    "### Tipos de variables (cadenas, números, float, listas, diccionarios)\n"
   ]
  },
  {
   "cell_type": "code",
   "execution_count": null,
   "metadata": {
    "scrolled": true
   },
   "outputs": [],
   "source": [
    "texto = \"Taller de Python\"  # cadena\n",
    "\n",
    "num = 35  # entero\n",
    "\n",
    "floatante = 3.5  # flotante\n",
    "\n",
    "verdadero = True  # boleano\n",
    "\n",
    "falso = False  # boleano\n",
    "\n",
    "list = [\"pedro\", \"pablo\", \"juan\", texto]  # lista\n",
    "\n",
    "print(list[3])\n",
    "\n",
    "dict = {\"altura\": \"1.80\",  # diccionario\n",
    "        \"peso\": 100,\n",
    "        \"edad\": num\n",
    "        }\n",
    "\n",
    "\n",
    "print(dict[\"edad\"])"
   ]
  },
  {
   "cell_type": "markdown",
   "metadata": {},
   "source": [
    "### Operaciones básicas con variables"
   ]
  },
  {
   "cell_type": "code",
   "execution_count": 15,
   "metadata": {},
   "outputs": [
    {
     "name": "stdout",
     "output_type": "stream",
     "text": [
      " <->   <->   <->   <->   <->  \n",
      "Python Para Principiantes\n",
      "4.5\n",
      "67\n"
     ]
    }
   ],
   "source": [
    "cadena1 = 'Python'  # Declara cadena con 'Python'\n",
    "\n",
    "cadena2 = 'Lenguaje ' + cadena1.upper()  # Lenguaje PYTHON\n",
    "\n",
    "cadena3 = 'Lenguaje ' 'Python'  # Lenguaje Python\n",
    "\n",
    "cadena4 = \"Python para principiantes\"\n",
    "\n",
    "cadena5 = \" <->  \" * 5  # repite 5 veces la cadena que precede al *\n",
    "\n",
    "print(cadena5)\n",
    "\n",
    "print(cadena4.title())  # Python Para principiantes\n",
    "\n",
    "texto1 = \"4.5\"  # declara texto1\n",
    "texto2 = \"67\"  # declara texto2\n",
    "flotante = float(texto1)  # Convierte cadena a flotante -> 4.5\n",
    "numero = int(texto2)  # Convierte de cadena a entero -> 67\n",
    "\n",
    "print(flotante)\n",
    "print(numero)"
   ]
  },
  {
   "cell_type": "markdown",
   "metadata": {
    "collapsed": true
   },
   "source": [
    "# Operadores"
   ]
  },
  {
   "cell_type": "markdown",
   "metadata": {
    "collapsed": true
   },
   "source": [
    "### Operadores aritméticos"
   ]
  },
  {
   "cell_type": "markdown",
   "metadata": {},
   "source": [
    "| Signo \t|                    Operación                   \t|\n",
    "|:-----:\t|:----------------------------------------------:\t|\n",
    "|   +   \t|                      Suma                      \t|\n",
    "|   -   \t|                      Resta                     \t|\n",
    "|   *   \t|                 Multiplicación                 \t|\n",
    "|   /   \t|                    División                    \t|\n",
    "|   **  \t|                  Potenciación                  \t|\n",
    "|   //  \t| División, se obtiene parte entera del cociente \t|\n",
    "|   %   \t|          División, se obtiene el resto         \t|"
   ]
  },
  {
   "cell_type": "code",
   "execution_count": 12,
   "metadata": {},
   "outputs": [
    {
     "name": "stdout",
     "output_type": "stream",
     "text": [
      "1113.9700907029476\n"
     ]
    }
   ],
   "source": [
    "total = ((24 - 10 + 2.3) * 4.3 / 2.1) ** 2\n",
    "\n",
    "print(total) "
   ]
  },
  {
   "cell_type": "markdown",
   "metadata": {},
   "source": [
    "### Operadores de comparación o relacionales"
   ]
  },
  {
   "cell_type": "markdown",
   "metadata": {},
   "source": [
    "| Signo \t|      Relación     \t|\n",
    "|:-----:\t|:-----------------:\t|\n",
    "|   <   \t|     Menor que     \t|\n",
    "|   >   \t|     Mayor que     \t|\n",
    "|   <=  \t| Menor o igual que \t|\n",
    "|   >=  \t| Mayor o igual que \t|\n",
    "|   ==  \t|      Igual a      \t|\n",
    "|   !=  \t|    Distinto de    \t|\n"
   ]
  },
  {
   "cell_type": "code",
   "execution_count": 13,
   "metadata": {},
   "outputs": [
    {
     "name": "stdout",
     "output_type": "stream",
     "text": [
      "True\n",
      "False\n",
      "True\n"
     ]
    }
   ],
   "source": [
    "num = 5\n",
    "\n",
    "print(\"a\" != \"b\")\n",
    "\n",
    "print(3 == 4)\n",
    "\n",
    "print(1000 > num)"
   ]
  },
  {
   "cell_type": "markdown",
   "metadata": {},
   "source": [
    "### Operadores lógicos"
   ]
  },
  {
   "cell_type": "markdown",
   "metadata": {},
   "source": [
    "| Operador \t| Lógica \t|\n",
    "|:--------:\t|:------:\t|\n",
    "|    and   \t|    Y   \t|\n",
    "|    or    \t|    O   \t|\n",
    "|    not   \t|   No   \t|"
   ]
  },
  {
   "cell_type": "code",
   "execution_count": null,
   "metadata": {},
   "outputs": [],
   "source": [
    "#Diferencia de edad socialmente aceptable (la mitad mas 7)\n",
    "\n",
    "menor = 18\n",
    "\n",
    "mayor = 20\n",
    "\n",
    "edad = menor >= (mayor/2+7)\n",
    "\n",
    "se_puede = (menor >= 18) and edad\n",
    "\n",
    "print(\"Se puede?\",se_puede)"
   ]
  },
  {
   "cell_type": "markdown",
   "metadata": {},
   "source": [
    "# Control del flujo"
   ]
  },
  {
   "cell_type": "markdown",
   "metadata": {},
   "source": [
    "### Control del flujo: if"
   ]
  },
  {
   "cell_type": "code",
   "execution_count": null,
   "metadata": {},
   "outputs": [],
   "source": [
    "if \"hola\" != \"Hola\":\n",
    "    print(\"son diferentes\")\n",
    "\n",
    "if 5 < 4:\n",
    "    print(\"incorrecto\")\n",
    "else:\n",
    "    print(\"correcto\")\n",
    "\n",
    "\n",
    "if dict[\"edad\"] <= 12:  # se evalúa edad\n",
    "    precio = 2  # precio = 2\n",
    "elif 13 <= dict[\"edad\"] <= 18:  # en caso contrario se evalúa...\n",
    "    precio = 3  # si edad está entre 13 y 18, precio = 3\n",
    "else:  # en cualquier otro caso...\n",
    "    precio = 4  # precio = 4\n",
    "\n",
    "print('A Pagar: ' + str(precio) + ' $')  # Muestra costo"
   ]
  },
  {
   "cell_type": "markdown",
   "metadata": {},
   "source": [
    "### Control del flujo con bucles: for...in"
   ]
  },
  {
   "cell_type": "code",
   "execution_count": null,
   "metadata": {},
   "outputs": [],
   "source": [
    "texto = \"Taller de Python\"  # cadena\n",
    "\n",
    "list = [\"pedro\", \"pablo\", \"juan\", texto]  # lista\n",
    "\n",
    "for l in list:  # recorre todos los elementos en la variable list\n",
    "    print(l) #imprime elemento por elemento\n",
    "\n",
    "\n",
    "for n in range(1, 50):  # recorre todos los elementos contenidos en una serie de 1 a 50\n",
    "    if n % 2 == 0:  # evalua si el numero es par y lo imprime en caso de que lo sea.\n",
    "        print(n)\n"
   ]
  },
  {
   "cell_type": "markdown",
   "metadata": {},
   "source": [
    "# Funciones"
   ]
  },
  {
   "cell_type": "markdown",
   "metadata": {},
   "source": [
    "### Funciones con un número fijo de parámetros"
   ]
  },
  {
   "cell_type": "code",
   "execution_count": null,
   "metadata": {},
   "outputs": [],
   "source": [
    "# funcion que recibe dos parámetros y devuelve la sumatoria de los mismos\n",
    "def sumar_dos_nums(num1, num2):\n",
    "    return num1 + num2\n",
    "\n",
    "\n",
    "print(sumar_dos_nums(5, 9))"
   ]
  },
  {
   "cell_type": "markdown",
   "metadata": {},
   "source": [
    "### Funciones con un número variable de parámetros"
   ]
  },
  {
   "cell_type": "code",
   "execution_count": null,
   "metadata": {},
   "outputs": [],
   "source": [
    "# funcion que recibe una cantidad indefinidad parámetros, los cuales agrupa en una lista\n",
    "# y devuelve la sumatoria de los mismos\n",
    "\n",
    "def sumar_varios_nums(*nums):\n",
    "    total = 0\n",
    "    for n in nums:\n",
    "       total += n\n",
    "    return total\n",
    "\n",
    "\n",
    "print(\"primera llamada: \"+str(sumar_varios_nums(1, 2, 3, 4, 5, 6)))\n",
    "\n",
    "print(\"segunda llamada: \"+str(sumar_varios_nums(1, 2, 3, 4)))"
   ]
  },
  {
   "cell_type": "markdown",
   "metadata": {},
   "source": [
    "### Funciones con parámetros con valores por defecto"
   ]
  },
  {
   "cell_type": "code",
   "execution_count": null,
   "metadata": {},
   "outputs": [],
   "source": [
    "# funcion donde se define el valor de uno de sus parámetros por defecto (iva)\n",
    "# y hace un calculo de aumento porcentual al otro (total):\n",
    "\n",
    "\n",
    "def tipo_iva(total, iva=16):\n",
    "    return total + (total * iva / 100)\n",
    "\n",
    "\n",
    "costo_zapatos = 568.3\n",
    "\n",
    "# se invoca la funcion con un solo parámetro, por defecto se hace el calculo con iva= 16\n",
    "print(tipo_iva(costo_zapatos))\n",
    "\n",
    "# se invoca la funcion indicando 2 paramtros, por lo que el calculo on iva= 8\n",
    "print(tipo_iva(costo_zapatos, 8))"
   ]
  },
  {
   "cell_type": "markdown",
   "metadata": {},
   "source": [
    "### Funciones con todos los parámetros con valores por defecto"
   ]
  },
  {
   "cell_type": "code",
   "execution_count": null,
   "metadata": {},
   "outputs": [],
   "source": [
    "# cuando se defienen todos los valores por defcto el orden que se utilice no importa\n",
    "def repite_caracter(caracter=\"-\", repite=3):\n",
    "    return caracter * repite\n",
    "\n",
    "\n",
    "print(repite_caracter())  # Se utilizan valores por omisión\n",
    "print(repite_caracter('~', 30))  # Muestra línea con 30 ~\n",
    "print(repite_caracter(repite=10, caracter='*'))  # Muestra: ~~~~~~~~~~\n"
   ]
  },
  {
   "cell_type": "markdown",
   "metadata": {},
   "source": [
    "### Funciones con parámetros que contienen diccionarios"
   ]
  },
  {
   "cell_type": "code",
   "execution_count": 9,
   "metadata": {},
   "outputs": [
    {
     "ename": "TypeError",
     "evalue": "porc_aprobados() takes 1 positional argument but 2 were given",
     "output_type": "error",
     "traceback": [
      "\u001b[0;31m---------------------------------------------------------------------------\u001b[0m",
      "\u001b[0;31mTypeError\u001b[0m                                 Traceback (most recent call last)",
      "\u001b[0;32m<ipython-input-9-1ab36946728b>\u001b[0m in \u001b[0;36m<module>\u001b[0;34m()\u001b[0m\n\u001b[1;32m     10\u001b[0m \u001b[0mg\u001b[0m \u001b[0;34m=\u001b[0m \u001b[0;34m{\u001b[0m\u001b[0;34m'g1'\u001b[0m\u001b[0;34m:\u001b[0m\u001b[0;36m22\u001b[0m\u001b[0;34m,\u001b[0m \u001b[0;34m'g2'\u001b[0m\u001b[0;34m:\u001b[0m\u001b[0;36m25\u001b[0m\u001b[0;34m,\u001b[0m \u001b[0;34m'g3'\u001b[0m\u001b[0;34m:\u001b[0m\u001b[0;36m21\u001b[0m\u001b[0;34m}\u001b[0m\u001b[0;34m\u001b[0m\u001b[0m\n\u001b[1;32m     11\u001b[0m \u001b[0;34m\u001b[0m\u001b[0m\n\u001b[0;32m---> 12\u001b[0;31m \u001b[0mporcentaje_aprobados\u001b[0m \u001b[0;34m=\u001b[0m \u001b[0mporc_aprobados\u001b[0m\u001b[0;34m(\u001b[0m\u001b[0;36m48\u001b[0m\u001b[0;34m,\u001b[0m \u001b[0mg\u001b[0m\u001b[0;34m)\u001b[0m\u001b[0;34m\u001b[0m\u001b[0m\n\u001b[0m\u001b[1;32m     13\u001b[0m \u001b[0mprint\u001b[0m\u001b[0;34m(\u001b[0m\u001b[0mporcentaje_aprobados\u001b[0m\u001b[0;34m)\u001b[0m\u001b[0;34m\u001b[0m\u001b[0m\n",
      "\u001b[0;31mTypeError\u001b[0m: porc_aprobados() takes 1 positional argument but 2 were given"
     ]
    }
   ],
   "source": [
    "# Calcula el % de aprobados\n",
    "def porc_aprobados(aprobados, **grupos):\n",
    "    \n",
    "    total = 0\n",
    "    for alumnos in grupos.values():\n",
    "        total += alumnos\n",
    "\n",
    "    return aprobados * 100 / total\n",
    "\n",
    "\n",
    "porcentaje_aprobados = porc_aprobados(48, g1=22, g2=25, g3=21)\n",
    "print(porcentaje_aprobados)\n"
   ]
  },
  {
   "cell_type": "markdown",
   "metadata": {},
   "source": [
    "# Módulos"
   ]
  },
  {
   "cell_type": "markdown",
   "metadata": {},
   "source": [
    "### Instalación de módulos"
   ]
  },
  {
   "cell_type": "code",
   "execution_count": 5,
   "metadata": {},
   "outputs": [
    {
     "name": "stdout",
     "output_type": "stream",
     "text": [
      "\n",
      "The following command must be run outside of the IPython shell:\n",
      "\n",
      "    $ pip install time\n",
      "\n",
      "The Python package manager (pip) can only be used from outside of IPython.\n",
      "Please reissue the `pip` command in a separate terminal or command prompt.\n",
      "\n",
      "See the Python documentation for more information on how to install packages:\n",
      "\n",
      "    https://docs.python.org/3/installing/\n"
     ]
    }
   ],
   "source": [
    "pip install time"
   ]
  },
  {
   "cell_type": "markdown",
   "metadata": {},
   "source": [
    "### Uso de módulos"
   ]
  },
  {
   "cell_type": "code",
   "execution_count": null,
   "metadata": {},
   "outputs": [],
   "source": [
    "import time\n",
    "\n",
    "#funcion para determinar multiplos de un valor dado\n",
    "def multiple(valor, multiple):\n",
    "    \"\"\"\n",
    "    Funcion para calcular si el numero es multiplo\n",
    "    utilizando el modulo de la division\n",
    "    \"\"\"\n",
    "    resto = valor % multiple\n",
    "    if resto == 0:\n",
    "        return True\n",
    "    else:\n",
    "        return False\n",
    "\n",
    "\n",
    "# Devuelve hora actual en segundos (coma flotante)  \n",
    "print(time.time())\n",
    "\n",
    "# Convierte de segundos a cadena\n",
    "print(time.ctime())\n",
    "\n",
    "for n in range(1,100):\n",
    "        if(multiple(n,5)):\n",
    "            print(\"-------------------Espera 5 segundos...\")\n",
    "            time.sleep(5)\n",
    "            print(n)\n",
    "        else: \n",
    "            time.sleep(1)\n",
    "            print(n)\n",
    "\n"
   ]
  }
 ],
 "metadata": {
  "kernelspec": {
   "display_name": "Python 3",
   "language": "python",
   "name": "python3"
  },
  "language_info": {
   "codemirror_mode": {
    "name": "ipython",
    "version": 3
   },
   "file_extension": ".py",
   "mimetype": "text/x-python",
   "name": "python",
   "nbconvert_exporter": "python",
   "pygments_lexer": "ipython3",
   "version": "3.6.6"
  }
 },
 "nbformat": 4,
 "nbformat_minor": 2
}
